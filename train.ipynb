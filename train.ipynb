{
  "nbformat": 4,
  "nbformat_minor": 0,
  "metadata": {
    "colab": {
      "provenance": []
    },
    "kernelspec": {
      "name": "python3",
      "display_name": "Python 3"
    },
    "language_info": {
      "name": "python"
    }
  },
  "cells": [
    {
      "cell_type": "code",
      "execution_count": null,
      "metadata": {
        "id": "hupqUMw5kWrP"
      },
      "outputs": [],
      "source": [
        "!pip install catboost"
      ]
    },
    {
      "cell_type": "code",
      "source": [
        "from catboost import CatBoostClassifier, Pool"
      ],
      "metadata": {
        "colab": {
          "base_uri": "https://localhost:8080/",
          "height": 305
        },
        "id": "hXJEWbe4kdfY",
        "outputId": "5328d3ea-32b8-48a0-8997-d063ee40f15f"
      },
      "execution_count": 2,
      "outputs": [
        {
          "output_type": "error",
          "ename": "ImportError",
          "evalue": "ignored",
          "traceback": [
            "\u001b[0;31m---------------------------------------------------------------------------\u001b[0m",
            "\u001b[0;31mImportError\u001b[0m                               Traceback (most recent call last)",
            "\u001b[0;32m<ipython-input-2-88757e0aec90>\u001b[0m in \u001b[0;36m<cell line: 1>\u001b[0;34m()\u001b[0m\n\u001b[0;32m----> 1\u001b[0;31m \u001b[0;32mfrom\u001b[0m \u001b[0mcatboost\u001b[0m \u001b[0;32mimport\u001b[0m \u001b[0mCatBoostClassifier\u001b[0m\u001b[0;34m,\u001b[0m \u001b[0mPool\u001b[0m\u001b[0;34m\u001b[0m\u001b[0;34m\u001b[0m\u001b[0m\n\u001b[0m",
            "\u001b[0;31mImportError\u001b[0m: cannot import name 'CatBoostClassifier' from 'catboost' (unknown location)",
            "",
            "\u001b[0;31m---------------------------------------------------------------------------\u001b[0;32m\nNOTE: If your import is failing due to a missing package, you can\nmanually install dependencies using either !pip or !apt.\n\nTo view examples of installing some common dependencies, click the\n\"Open Examples\" button below.\n\u001b[0;31m---------------------------------------------------------------------------\u001b[0m\n"
          ],
          "errorDetails": {
            "actions": [
              {
                "action": "open_url",
                "actionText": "Open Examples",
                "url": "/notebooks/snippets/importing_libraries.ipynb"
              }
            ]
          }
        }
      ]
    },
    {
      "cell_type": "code",
      "source": [
        "text_features=['news', 'industries', 'about']"
      ],
      "metadata": {
        "id": "zo14FNo0kfYV"
      },
      "execution_count": null,
      "outputs": []
    },
    {
      "cell_type": "code",
      "source": [
        "from sklearn.feature_extraction.text import TfidfVectorizer, TfidfTransformer"
      ],
      "metadata": {
        "id": "QozfqUlekhgF"
      },
      "execution_count": null,
      "outputs": []
    },
    {
      "cell_type": "code",
      "source": [
        "from sklearn.feature_extraction.text import CountVectorizer"
      ],
      "metadata": {
        "id": "QZ9foftkkjlq"
      },
      "execution_count": null,
      "outputs": []
    },
    {
      "cell_type": "code",
      "source": [
        "cv = CountVectorizer()\n",
        "tfidf = TfidfVectorizer()"
      ],
      "metadata": {
        "id": "njt8C212knqD"
      },
      "execution_count": null,
      "outputs": []
    },
    {
      "cell_type": "code",
      "source": [
        "df['all_text'] = df['news'] + df['about'] + df['industries']"
      ],
      "metadata": {
        "id": "l9nlfnjUkpJ3"
      },
      "execution_count": null,
      "outputs": []
    },
    {
      "cell_type": "code",
      "source": [
        "embeddings = tfidf.fit_transform(df['all_text'])\n",
        "    \n",
        "    # create our dataframe\n",
        "a = pd.DataFrame(embeddings.toarray(), \\\n",
        "                  columns=tfidf.get_feature_names())"
      ],
      "metadata": {
        "id": "qXnig5_yktiH"
      },
      "execution_count": null,
      "outputs": []
    },
    {
      "cell_type": "code",
      "source": [
        "new_df = pd.concat([df, a], axis=1).drop(['industries', 'about', 'news', 'all_text'], axis=1)\n",
        "new_df = new_df.set_index('name')"
      ],
      "metadata": {
        "id": "6746dp7pkvpm"
      },
      "execution_count": null,
      "outputs": []
    },
    {
      "cell_type": "code",
      "source": [
        "X = new_df.drop('y', axis=1)\n",
        "y = new_df['y']"
      ],
      "metadata": {
        "id": "x29bswdFlB8z"
      },
      "execution_count": null,
      "outputs": []
    },
    {
      "cell_type": "code",
      "source": [
        "from catboost import CatBoostClassifier"
      ],
      "metadata": {
        "id": "iqxGshFOlB0k"
      },
      "execution_count": null,
      "outputs": []
    },
    {
      "cell_type": "code",
      "source": [
        "model = CatBoostClassifier()"
      ],
      "metadata": {
        "id": "oUmXj2edlFk4"
      },
      "execution_count": null,
      "outputs": []
    },
    {
      "cell_type": "code",
      "source": [
        "model.fit(X, y, verbose=100)"
      ],
      "metadata": {
        "id": "Jl0NtfJ_lHcd"
      },
      "execution_count": null,
      "outputs": []
    },
    {
      "cell_type": "code",
      "source": [
        "model.score(X, y)"
      ],
      "metadata": {
        "id": "wYRe1vWTlNPS"
      },
      "execution_count": null,
      "outputs": []
    },
    {
      "cell_type": "code",
      "source": [
        "fe = pd.DataFrame(model.get_feature_importance(), X.columns)"
      ],
      "metadata": {
        "id": "KHF8q5xolRbn"
      },
      "execution_count": null,
      "outputs": []
    },
    {
      "cell_type": "code",
      "source": [
        "best = fe.loc[fe[0] > 0.25]"
      ],
      "metadata": {
        "id": "nuU_-wvGlTPn"
      },
      "execution_count": null,
      "outputs": []
    },
    {
      "cell_type": "code",
      "source": [
        "import matplotlib.pyplot as plt"
      ],
      "metadata": {
        "id": "PxQccXbklVAI"
      },
      "execution_count": null,
      "outputs": []
    },
    {
      "cell_type": "code",
      "source": [
        "fig, ax = plt.subplots(figsize=(16,14))\n",
        "best.plot.bar(ax=ax)\n",
        "ax.set_title(\"Важность признаков\")\n",
        "ax.set_ylabel('Важность, %')\n",
        "fig.tight_layout()"
      ],
      "metadata": {
        "id": "mhomBziBlZMh"
      },
      "execution_count": null,
      "outputs": []
    },
    {
      "cell_type": "code",
      "source": [
        "from sklearn import svm, datasets\n",
        "from sklearn.model_selection import GridSearchCV\n",
        "parameters = {'iterations':[1000, 2000, 500], 'learning_rate':[0.1, 0.01, 0.001], 'verbose':[250]}\n",
        "clf = GridSearchCV(model, parameters)\n",
        "clf.fit(X, y,)\n",
        "\n",
        "\n",
        "sorted(clf.cv_results_.keys())"
      ],
      "metadata": {
        "id": "yng-NWHZlcbA"
      },
      "execution_count": null,
      "outputs": []
    },
    {
      "cell_type": "code",
      "source": [
        "import pickle"
      ],
      "metadata": {
        "id": "AgUXxyctld80"
      },
      "execution_count": null,
      "outputs": []
    },
    {
      "cell_type": "code",
      "source": [
        "pickle.dump(model, open('model.pkl', 'wb'))"
      ],
      "metadata": {
        "id": "l0rzA8tilfmE"
      },
      "execution_count": null,
      "outputs": []
    },
    {
      "cell_type": "code",
      "source": [
        "model = pickle.load(open('model.pkl', 'rb'))"
      ],
      "metadata": {
        "id": "Xey3-F1XljIG"
      },
      "execution_count": null,
      "outputs": []
    },
    {
      "cell_type": "code",
      "source": [
        "class Predictor():\n",
        "    def __init__(self, name):\n",
        "        self.data = Parser(company_name='vk').get_all_info()\n",
        "        self.model = pickle.load(file)\n",
        "    def get_predicion:\n",
        "        return self.model.predict(self.data)"
      ],
      "metadata": {
        "id": "_UoUXInbllTT"
      },
      "execution_count": null,
      "outputs": []
    }
  ]
}