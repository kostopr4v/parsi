{
  "nbformat": 4,
  "nbformat_minor": 0,
  "metadata": {
    "colab": {
      "provenance": []
    },
    "kernelspec": {
      "name": "python3",
      "display_name": "Python 3"
    },
    "language_info": {
      "name": "python"
    }
  },
  "cells": [
    {
      "cell_type": "code",
      "execution_count": null,
      "metadata": {
        "id": "1-_2nTUVjTOx"
      },
      "outputs": [],
      "source": [
        "import pandas as pd\n",
        "from string import punctuation\n",
        "from tqdm import tqdm\n",
        "import nltk\n",
        "\n",
        "nltk.download('stopwords')\n",
        "\n",
        "from nltk.corpus import stopwords\n",
        "\n",
        "russian_stopwords = stopwords.words(\"russian\")\n",
        "\n",
        "from pymystem3 import Mystem\n",
        "\n",
        "stemmer = Mystem()\n",
        "\n",
        "def preprocess_text(texts):\n",
        "    texts_new = []\n",
        "    for text in tqdm(texts):\n",
        "        text_new = text.strip().replace('\\n', '').replace('\\r', '').replace('\\xa0', '')\n",
        "        for p in punctuation+'qwertyuiopasdfghjklzxcvbnm1234567890QWERTYUIOPASDFGHJKLZXCVBNM—':\n",
        "            text_new = text_new.replace(p, '')\n",
        "        text_new = text_new.lower()\n",
        "        \n",
        "        text_wsw = ' '.join([w for w in text_new.split() if w not in russian_stopwords])\n",
        "        text_lemm = ''.join(stemmer.lemmatize(text_wsw)).replace('\\n', '')\n",
        "        texts_new.append(text_lemm)\n",
        "        \n",
        "        \n",
        "    return texts_new"
      ]
    },
    {
      "cell_type": "code",
      "source": [
        "for i in range(len(df)):\n",
        "    df['news'][i] = ''.join(preprocess_text(df['news'][i]))\n",
        "df['about'] = preprocess_text(df['about'])\n",
        "df.industries = [''.join(preprocess_text(x)) for x in df.industries]"
      ],
      "metadata": {
        "id": "W9YJqubdja4F"
      },
      "execution_count": null,
      "outputs": []
    },
    {
      "cell_type": "code",
      "source": [
        "df['y'] = [0]\n",
        "df = df.drop('date', axis=1)"
      ],
      "metadata": {
        "id": "n2nWHKkijmXQ"
      },
      "execution_count": null,
      "outputs": []
    },
    {
      "cell_type": "code",
      "source": [
        "X, y = df.drop('y', axis=1), df.y"
      ],
      "metadata": {
        "id": "E8Mm1WJQkBur"
      },
      "execution_count": null,
      "outputs": []
    }
  ]
}